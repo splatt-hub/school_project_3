{
 "cells": [
  {
   "cell_type": "code",
   "execution_count": 1,
   "metadata": {},
   "outputs": [],
   "source": [
    "import zipfile\n",
    "import pandas as pd"
   ]
  },
  {
   "cell_type": "code",
   "execution_count": 2,
   "metadata": {},
   "outputs": [],
   "source": [
    "with zipfile.ZipFile('./datasets/client_info.csv.zip', 'r') as zip_ref:\n",
    "    zip_ref.extractall('./datasets')"
   ]
  },
  {
   "cell_type": "code",
   "execution_count": 3,
   "metadata": {
    "id": "dxhM1MLjPc31"
   },
   "outputs": [],
   "source": [
    "df = pd.read_csv('./datasets/client_info.csv')"
   ]
  },
  {
   "cell_type": "code",
   "execution_count": 4,
   "metadata": {
    "scrolled": true
   },
   "outputs": [
    {
     "data": {
      "text/html": [
       "<div>\n",
       "<style scoped>\n",
       "    .dataframe tbody tr th:only-of-type {\n",
       "        vertical-align: middle;\n",
       "    }\n",
       "\n",
       "    .dataframe tbody tr th {\n",
       "        vertical-align: top;\n",
       "    }\n",
       "\n",
       "    .dataframe thead th {\n",
       "        text-align: right;\n",
       "    }\n",
       "</style>\n",
       "<table border=\"1\" class=\"dataframe\">\n",
       "  <thead>\n",
       "    <tr style=\"text-align: right;\">\n",
       "      <th></th>\n",
       "      <th>ID</th>\n",
       "      <th>CR_PROD_CNT_IL</th>\n",
       "      <th>AMOUNT_RUB_CLO_PRC</th>\n",
       "      <th>APP_REGISTR_RGN_CODE</th>\n",
       "      <th>TURNOVER_DYNAMIC_IL_1M</th>\n",
       "      <th>LDEAL_YQZ_COM_GROUP</th>\n",
       "      <th>LDEAL_YQZ_CHRG_GROUP</th>\n",
       "      <th>AVG_PCT_MONTH_TO_PCLOSE_GROUP</th>\n",
       "      <th>MAX_PCLOSE_DATE_GROUP</th>\n",
       "      <th>AVG_PCT_DEBT_TO_DEAL_AMT_GROUP</th>\n",
       "      <th>...</th>\n",
       "      <th>CLNT_SETUP_TENOR</th>\n",
       "      <th>TURNOVER_DYNAMIC_PAYM_3M</th>\n",
       "      <th>TURNOVER_DYNAMIC_PAYM_1M</th>\n",
       "      <th>TRANS_AMOUNT_TENDENCY3M</th>\n",
       "      <th>TRANS_CNT_TENDENCY3M</th>\n",
       "      <th>REST_DYNAMIC_CC_1M</th>\n",
       "      <th>TURNOVER_DYNAMIC_CC_1M</th>\n",
       "      <th>REST_DYNAMIC_CC_3M</th>\n",
       "      <th>TURNOVER_DYNAMIC_CC_3M</th>\n",
       "      <th>TARGET</th>\n",
       "    </tr>\n",
       "  </thead>\n",
       "  <tbody>\n",
       "    <tr>\n",
       "      <th>0</th>\n",
       "      <td>146841</td>\n",
       "      <td>0</td>\n",
       "      <td>0.000000</td>\n",
       "      <td>неизвестна</td>\n",
       "      <td>0.0</td>\n",
       "      <td>неизвестна</td>\n",
       "      <td>неизвестна</td>\n",
       "      <td>неизвестна</td>\n",
       "      <td>неизвестна</td>\n",
       "      <td>неизвестна</td>\n",
       "      <td>...</td>\n",
       "      <td>1.593023</td>\n",
       "      <td>0.0</td>\n",
       "      <td>0.0</td>\n",
       "      <td>0.483032</td>\n",
       "      <td>0.406780</td>\n",
       "      <td>0.0</td>\n",
       "      <td>0.0</td>\n",
       "      <td>0.0</td>\n",
       "      <td>0.0</td>\n",
       "      <td>0</td>\n",
       "    </tr>\n",
       "    <tr>\n",
       "      <th>1</th>\n",
       "      <td>146842</td>\n",
       "      <td>0</td>\n",
       "      <td>0.041033</td>\n",
       "      <td>неизвестна</td>\n",
       "      <td>0.0</td>\n",
       "      <td>неизвестна</td>\n",
       "      <td>неизвестна</td>\n",
       "      <td>неизвестна</td>\n",
       "      <td>неизвестна</td>\n",
       "      <td>неизвестна</td>\n",
       "      <td>...</td>\n",
       "      <td>1.587647</td>\n",
       "      <td>0.0</td>\n",
       "      <td>0.0</td>\n",
       "      <td>0.394340</td>\n",
       "      <td>0.545455</td>\n",
       "      <td>0.0</td>\n",
       "      <td>0.0</td>\n",
       "      <td>0.0</td>\n",
       "      <td>0.0</td>\n",
       "      <td>0</td>\n",
       "    </tr>\n",
       "    <tr>\n",
       "      <th>2</th>\n",
       "      <td>146843</td>\n",
       "      <td>0</td>\n",
       "      <td>0.006915</td>\n",
       "      <td>неизвестна</td>\n",
       "      <td>0.0</td>\n",
       "      <td>неизвестна</td>\n",
       "      <td>неизвестна</td>\n",
       "      <td>неизвестна</td>\n",
       "      <td>неизвестна</td>\n",
       "      <td>неизвестна</td>\n",
       "      <td>...</td>\n",
       "      <td>1.587647</td>\n",
       "      <td>0.0</td>\n",
       "      <td>0.0</td>\n",
       "      <td>0.399342</td>\n",
       "      <td>0.297297</td>\n",
       "      <td>0.0</td>\n",
       "      <td>0.0</td>\n",
       "      <td>0.0</td>\n",
       "      <td>0.0</td>\n",
       "      <td>0</td>\n",
       "    </tr>\n",
       "    <tr>\n",
       "      <th>3</th>\n",
       "      <td>146844</td>\n",
       "      <td>0</td>\n",
       "      <td>0.000000</td>\n",
       "      <td>неизвестна</td>\n",
       "      <td>0.0</td>\n",
       "      <td>неизвестна</td>\n",
       "      <td>неизвестна</td>\n",
       "      <td>неизвестна</td>\n",
       "      <td>неизвестна</td>\n",
       "      <td>неизвестна</td>\n",
       "      <td>...</td>\n",
       "      <td>1.583333</td>\n",
       "      <td>0.0</td>\n",
       "      <td>0.0</td>\n",
       "      <td>0.552169</td>\n",
       "      <td>0.558824</td>\n",
       "      <td>0.0</td>\n",
       "      <td>0.0</td>\n",
       "      <td>0.0</td>\n",
       "      <td>0.0</td>\n",
       "      <td>0</td>\n",
       "    </tr>\n",
       "    <tr>\n",
       "      <th>4</th>\n",
       "      <td>146845</td>\n",
       "      <td>0</td>\n",
       "      <td>0.000000</td>\n",
       "      <td>неизвестна</td>\n",
       "      <td>0.0</td>\n",
       "      <td>неизвестна</td>\n",
       "      <td>неизвестна</td>\n",
       "      <td>неизвестна</td>\n",
       "      <td>неизвестна</td>\n",
       "      <td>неизвестна</td>\n",
       "      <td>...</td>\n",
       "      <td>1.583333</td>\n",
       "      <td>0.0</td>\n",
       "      <td>0.0</td>\n",
       "      <td>0.611610</td>\n",
       "      <td>0.620690</td>\n",
       "      <td>0.0</td>\n",
       "      <td>0.0</td>\n",
       "      <td>0.0</td>\n",
       "      <td>0.0</td>\n",
       "      <td>0</td>\n",
       "    </tr>\n",
       "  </tbody>\n",
       "</table>\n",
       "<p>5 rows × 105 columns</p>\n",
       "</div>"
      ],
      "text/plain": [
       "       ID  CR_PROD_CNT_IL  AMOUNT_RUB_CLO_PRC APP_REGISTR_RGN_CODE  \\\n",
       "0  146841               0            0.000000           неизвестна   \n",
       "1  146842               0            0.041033           неизвестна   \n",
       "2  146843               0            0.006915           неизвестна   \n",
       "3  146844               0            0.000000           неизвестна   \n",
       "4  146845               0            0.000000           неизвестна   \n",
       "\n",
       "   TURNOVER_DYNAMIC_IL_1M LDEAL_YQZ_COM_GROUP LDEAL_YQZ_CHRG_GROUP  \\\n",
       "0                     0.0          неизвестна           неизвестна   \n",
       "1                     0.0          неизвестна           неизвестна   \n",
       "2                     0.0          неизвестна           неизвестна   \n",
       "3                     0.0          неизвестна           неизвестна   \n",
       "4                     0.0          неизвестна           неизвестна   \n",
       "\n",
       "  AVG_PCT_MONTH_TO_PCLOSE_GROUP MAX_PCLOSE_DATE_GROUP  \\\n",
       "0                    неизвестна            неизвестна   \n",
       "1                    неизвестна            неизвестна   \n",
       "2                    неизвестна            неизвестна   \n",
       "3                    неизвестна            неизвестна   \n",
       "4                    неизвестна            неизвестна   \n",
       "\n",
       "  AVG_PCT_DEBT_TO_DEAL_AMT_GROUP  ... CLNT_SETUP_TENOR  \\\n",
       "0                     неизвестна  ...         1.593023   \n",
       "1                     неизвестна  ...         1.587647   \n",
       "2                     неизвестна  ...         1.587647   \n",
       "3                     неизвестна  ...         1.583333   \n",
       "4                     неизвестна  ...         1.583333   \n",
       "\n",
       "  TURNOVER_DYNAMIC_PAYM_3M TURNOVER_DYNAMIC_PAYM_1M TRANS_AMOUNT_TENDENCY3M  \\\n",
       "0                      0.0                      0.0                0.483032   \n",
       "1                      0.0                      0.0                0.394340   \n",
       "2                      0.0                      0.0                0.399342   \n",
       "3                      0.0                      0.0                0.552169   \n",
       "4                      0.0                      0.0                0.611610   \n",
       "\n",
       "  TRANS_CNT_TENDENCY3M REST_DYNAMIC_CC_1M TURNOVER_DYNAMIC_CC_1M  \\\n",
       "0             0.406780                0.0                    0.0   \n",
       "1             0.545455                0.0                    0.0   \n",
       "2             0.297297                0.0                    0.0   \n",
       "3             0.558824                0.0                    0.0   \n",
       "4             0.620690                0.0                    0.0   \n",
       "\n",
       "  REST_DYNAMIC_CC_3M TURNOVER_DYNAMIC_CC_3M TARGET  \n",
       "0                0.0                    0.0      0  \n",
       "1                0.0                    0.0      0  \n",
       "2                0.0                    0.0      0  \n",
       "3                0.0                    0.0      0  \n",
       "4                0.0                    0.0      0  \n",
       "\n",
       "[5 rows x 105 columns]"
      ]
     },
     "execution_count": 4,
     "metadata": {},
     "output_type": "execute_result"
    }
   ],
   "source": [
    "df.head(5)"
   ]
  },
  {
   "cell_type": "markdown",
   "metadata": {},
   "source": [
    "## Task 1 (Accuracy)"
   ]
  },
  {
   "cell_type": "code",
   "execution_count": 5,
   "metadata": {
    "scrolled": true
   },
   "outputs": [
    {
     "data": {
      "text/html": [
       "<div>\n",
       "<style scoped>\n",
       "    .dataframe tbody tr th:only-of-type {\n",
       "        vertical-align: middle;\n",
       "    }\n",
       "\n",
       "    .dataframe tbody tr th {\n",
       "        vertical-align: top;\n",
       "    }\n",
       "\n",
       "    .dataframe thead th {\n",
       "        text-align: right;\n",
       "    }\n",
       "</style>\n",
       "<table border=\"1\" class=\"dataframe\">\n",
       "  <thead>\n",
       "    <tr style=\"text-align: right;\">\n",
       "      <th></th>\n",
       "      <th>CR_PROD_CNT_IL</th>\n",
       "      <th>AMOUNT_RUB_CLO_PRC</th>\n",
       "      <th>APP_REGISTR_RGN_CODE</th>\n",
       "      <th>TURNOVER_DYNAMIC_IL_1M</th>\n",
       "      <th>LDEAL_YQZ_COM_GROUP</th>\n",
       "      <th>LDEAL_YQZ_CHRG_GROUP</th>\n",
       "      <th>AVG_PCT_MONTH_TO_PCLOSE_GROUP</th>\n",
       "      <th>MAX_PCLOSE_DATE_GROUP</th>\n",
       "      <th>AVG_PCT_DEBT_TO_DEAL_AMT_GROUP</th>\n",
       "      <th>LDEAL_AMT_MONTH_GROUP</th>\n",
       "      <th>...</th>\n",
       "      <th>CLNT_SETUP_TENOR</th>\n",
       "      <th>TURNOVER_DYNAMIC_PAYM_3M</th>\n",
       "      <th>TURNOVER_DYNAMIC_PAYM_1M</th>\n",
       "      <th>TRANS_AMOUNT_TENDENCY3M</th>\n",
       "      <th>TRANS_CNT_TENDENCY3M</th>\n",
       "      <th>REST_DYNAMIC_CC_1M</th>\n",
       "      <th>TURNOVER_DYNAMIC_CC_1M</th>\n",
       "      <th>REST_DYNAMIC_CC_3M</th>\n",
       "      <th>TURNOVER_DYNAMIC_CC_3M</th>\n",
       "      <th>TARGET</th>\n",
       "    </tr>\n",
       "    <tr>\n",
       "      <th>ID</th>\n",
       "      <th></th>\n",
       "      <th></th>\n",
       "      <th></th>\n",
       "      <th></th>\n",
       "      <th></th>\n",
       "      <th></th>\n",
       "      <th></th>\n",
       "      <th></th>\n",
       "      <th></th>\n",
       "      <th></th>\n",
       "      <th></th>\n",
       "      <th></th>\n",
       "      <th></th>\n",
       "      <th></th>\n",
       "      <th></th>\n",
       "      <th></th>\n",
       "      <th></th>\n",
       "      <th></th>\n",
       "      <th></th>\n",
       "      <th></th>\n",
       "      <th></th>\n",
       "    </tr>\n",
       "  </thead>\n",
       "  <tbody>\n",
       "    <tr>\n",
       "      <th>146841</th>\n",
       "      <td>0</td>\n",
       "      <td>0.000000</td>\n",
       "      <td>неизвестна</td>\n",
       "      <td>0.0</td>\n",
       "      <td>неизвестна</td>\n",
       "      <td>неизвестна</td>\n",
       "      <td>неизвестна</td>\n",
       "      <td>неизвестна</td>\n",
       "      <td>неизвестна</td>\n",
       "      <td>неизвестна</td>\n",
       "      <td>...</td>\n",
       "      <td>1.593023</td>\n",
       "      <td>0.0</td>\n",
       "      <td>0.0</td>\n",
       "      <td>0.483032</td>\n",
       "      <td>0.406780</td>\n",
       "      <td>0.0</td>\n",
       "      <td>0.0</td>\n",
       "      <td>0.0</td>\n",
       "      <td>0.0</td>\n",
       "      <td>0</td>\n",
       "    </tr>\n",
       "    <tr>\n",
       "      <th>146842</th>\n",
       "      <td>0</td>\n",
       "      <td>0.041033</td>\n",
       "      <td>неизвестна</td>\n",
       "      <td>0.0</td>\n",
       "      <td>неизвестна</td>\n",
       "      <td>неизвестна</td>\n",
       "      <td>неизвестна</td>\n",
       "      <td>неизвестна</td>\n",
       "      <td>неизвестна</td>\n",
       "      <td>неизвестна</td>\n",
       "      <td>...</td>\n",
       "      <td>1.587647</td>\n",
       "      <td>0.0</td>\n",
       "      <td>0.0</td>\n",
       "      <td>0.394340</td>\n",
       "      <td>0.545455</td>\n",
       "      <td>0.0</td>\n",
       "      <td>0.0</td>\n",
       "      <td>0.0</td>\n",
       "      <td>0.0</td>\n",
       "      <td>0</td>\n",
       "    </tr>\n",
       "    <tr>\n",
       "      <th>146843</th>\n",
       "      <td>0</td>\n",
       "      <td>0.006915</td>\n",
       "      <td>неизвестна</td>\n",
       "      <td>0.0</td>\n",
       "      <td>неизвестна</td>\n",
       "      <td>неизвестна</td>\n",
       "      <td>неизвестна</td>\n",
       "      <td>неизвестна</td>\n",
       "      <td>неизвестна</td>\n",
       "      <td>неизвестна</td>\n",
       "      <td>...</td>\n",
       "      <td>1.587647</td>\n",
       "      <td>0.0</td>\n",
       "      <td>0.0</td>\n",
       "      <td>0.399342</td>\n",
       "      <td>0.297297</td>\n",
       "      <td>0.0</td>\n",
       "      <td>0.0</td>\n",
       "      <td>0.0</td>\n",
       "      <td>0.0</td>\n",
       "      <td>0</td>\n",
       "    </tr>\n",
       "    <tr>\n",
       "      <th>146844</th>\n",
       "      <td>0</td>\n",
       "      <td>0.000000</td>\n",
       "      <td>неизвестна</td>\n",
       "      <td>0.0</td>\n",
       "      <td>неизвестна</td>\n",
       "      <td>неизвестна</td>\n",
       "      <td>неизвестна</td>\n",
       "      <td>неизвестна</td>\n",
       "      <td>неизвестна</td>\n",
       "      <td>неизвестна</td>\n",
       "      <td>...</td>\n",
       "      <td>1.583333</td>\n",
       "      <td>0.0</td>\n",
       "      <td>0.0</td>\n",
       "      <td>0.552169</td>\n",
       "      <td>0.558824</td>\n",
       "      <td>0.0</td>\n",
       "      <td>0.0</td>\n",
       "      <td>0.0</td>\n",
       "      <td>0.0</td>\n",
       "      <td>0</td>\n",
       "    </tr>\n",
       "    <tr>\n",
       "      <th>146845</th>\n",
       "      <td>0</td>\n",
       "      <td>0.000000</td>\n",
       "      <td>неизвестна</td>\n",
       "      <td>0.0</td>\n",
       "      <td>неизвестна</td>\n",
       "      <td>неизвестна</td>\n",
       "      <td>неизвестна</td>\n",
       "      <td>неизвестна</td>\n",
       "      <td>неизвестна</td>\n",
       "      <td>неизвестна</td>\n",
       "      <td>...</td>\n",
       "      <td>1.583333</td>\n",
       "      <td>0.0</td>\n",
       "      <td>0.0</td>\n",
       "      <td>0.611610</td>\n",
       "      <td>0.620690</td>\n",
       "      <td>0.0</td>\n",
       "      <td>0.0</td>\n",
       "      <td>0.0</td>\n",
       "      <td>0.0</td>\n",
       "      <td>0</td>\n",
       "    </tr>\n",
       "  </tbody>\n",
       "</table>\n",
       "<p>5 rows × 104 columns</p>\n",
       "</div>"
      ],
      "text/plain": [
       "        CR_PROD_CNT_IL  AMOUNT_RUB_CLO_PRC APP_REGISTR_RGN_CODE  \\\n",
       "ID                                                                \n",
       "146841               0            0.000000           неизвестна   \n",
       "146842               0            0.041033           неизвестна   \n",
       "146843               0            0.006915           неизвестна   \n",
       "146844               0            0.000000           неизвестна   \n",
       "146845               0            0.000000           неизвестна   \n",
       "\n",
       "        TURNOVER_DYNAMIC_IL_1M LDEAL_YQZ_COM_GROUP LDEAL_YQZ_CHRG_GROUP  \\\n",
       "ID                                                                        \n",
       "146841                     0.0          неизвестна           неизвестна   \n",
       "146842                     0.0          неизвестна           неизвестна   \n",
       "146843                     0.0          неизвестна           неизвестна   \n",
       "146844                     0.0          неизвестна           неизвестна   \n",
       "146845                     0.0          неизвестна           неизвестна   \n",
       "\n",
       "       AVG_PCT_MONTH_TO_PCLOSE_GROUP MAX_PCLOSE_DATE_GROUP  \\\n",
       "ID                                                           \n",
       "146841                    неизвестна            неизвестна   \n",
       "146842                    неизвестна            неизвестна   \n",
       "146843                    неизвестна            неизвестна   \n",
       "146844                    неизвестна            неизвестна   \n",
       "146845                    неизвестна            неизвестна   \n",
       "\n",
       "       AVG_PCT_DEBT_TO_DEAL_AMT_GROUP LDEAL_AMT_MONTH_GROUP  ...  \\\n",
       "ID                                                           ...   \n",
       "146841                     неизвестна            неизвестна  ...   \n",
       "146842                     неизвестна            неизвестна  ...   \n",
       "146843                     неизвестна            неизвестна  ...   \n",
       "146844                     неизвестна            неизвестна  ...   \n",
       "146845                     неизвестна            неизвестна  ...   \n",
       "\n",
       "       CLNT_SETUP_TENOR TURNOVER_DYNAMIC_PAYM_3M TURNOVER_DYNAMIC_PAYM_1M  \\\n",
       "ID                                                                          \n",
       "146841         1.593023                      0.0                      0.0   \n",
       "146842         1.587647                      0.0                      0.0   \n",
       "146843         1.587647                      0.0                      0.0   \n",
       "146844         1.583333                      0.0                      0.0   \n",
       "146845         1.583333                      0.0                      0.0   \n",
       "\n",
       "       TRANS_AMOUNT_TENDENCY3M TRANS_CNT_TENDENCY3M REST_DYNAMIC_CC_1M  \\\n",
       "ID                                                                       \n",
       "146841                0.483032             0.406780                0.0   \n",
       "146842                0.394340             0.545455                0.0   \n",
       "146843                0.399342             0.297297                0.0   \n",
       "146844                0.552169             0.558824                0.0   \n",
       "146845                0.611610             0.620690                0.0   \n",
       "\n",
       "       TURNOVER_DYNAMIC_CC_1M REST_DYNAMIC_CC_3M TURNOVER_DYNAMIC_CC_3M TARGET  \n",
       "ID                                                                              \n",
       "146841                    0.0                0.0                    0.0      0  \n",
       "146842                    0.0                0.0                    0.0      0  \n",
       "146843                    0.0                0.0                    0.0      0  \n",
       "146844                    0.0                0.0                    0.0      0  \n",
       "146845                    0.0                0.0                    0.0      0  \n",
       "\n",
       "[5 rows x 104 columns]"
      ]
     },
     "execution_count": 5,
     "metadata": {},
     "output_type": "execute_result"
    }
   ],
   "source": [
    "df = df.set_index('ID') # Назначит колонку ID индексом таблицы\n",
    "df.head(5)"
   ]
  },
  {
   "cell_type": "code",
   "execution_count": 6,
   "metadata": {},
   "outputs": [
    {
     "name": "stdout",
     "output_type": "stream",
     "text": [
      "Размер таблицы y: (355190, 1)\n",
      "Размер таблицы x: (355190, 103)\n"
     ]
    }
   ],
   "source": [
    "y = pd.DataFrame(df['TARGET']) # Результирующий признак \"Отток клиентов\"\n",
    "x = df[list(df)[:-1]] # Все оставшиеся значения кроме 'TARGET'\n",
    "\n",
    "print('Размер таблицы y:', y.shape) # shape возвращает кортеж формат формы будет (строки, столбцы)\n",
    "print('Размер таблицы x:', x.shape)"
   ]
  },
  {
   "cell_type": "code",
   "execution_count": 7,
   "metadata": {},
   "outputs": [
    {
     "name": "stdout",
     "output_type": "stream",
     "text": [
      "Кол-во x_num: 47\n",
      "Кол-во x_cat: 56\n"
     ]
    }
   ],
   "source": [
    "x_num = x.select_dtypes(include = ['float', 'int']) #число количественных переменных\n",
    "x_cat = x.select_dtypes(include = ['object']) #число категориальных переменных\n",
    "\n",
    "print('Кол-во x_num:', x_num.shape[-1])\n",
    "print('Кол-во x_cat:', x_cat.shape[-1])"
   ]
  },
  {
   "cell_type": "markdown",
   "metadata": {},
   "source": [
    "Предобработаем количественные переменные. Выведено среднее и стандартное отклонение по датасету для каждого признака после стандартизации"
   ]
  },
  {
   "cell_type": "code",
   "execution_count": 8,
   "metadata": {},
   "outputs": [
    {
     "name": "stdout",
     "output_type": "stream",
     "text": [
      "CR_PROD_CNT_IL              0.0\n",
      "AMOUNT_RUB_CLO_PRC          0.0\n",
      "TURNOVER_DYNAMIC_IL_1M     -0.0\n",
      "AMOUNT_RUB_SUP_PRC          0.0\n",
      "REST_DYNAMIC_FDEP_1M        0.0\n",
      "REST_DYNAMIC_SAVE_3M       -0.0\n",
      "CR_PROD_CNT_VCU            -0.0\n",
      "REST_AVG_CUR               -0.0\n",
      "AMOUNT_RUB_NAS_PRC          0.0\n",
      "TRANS_COUNT_SUP_PRC        -0.0\n",
      "TRANS_COUNT_NAS_PRC         0.0\n",
      "CR_PROD_CNT_TOVR           -0.0\n",
      "CR_PROD_CNT_PIL            -0.0\n",
      "TURNOVER_CC                 0.0\n",
      "TRANS_COUNT_ATM_PRC         0.0\n",
      "AMOUNT_RUB_ATM_PRC          0.0\n",
      "TURNOVER_PAYM              -0.0\n",
      "AGE                         0.0\n",
      "CR_PROD_CNT_CC              0.0\n",
      "REST_DYNAMIC_FDEP_3M       -0.0\n",
      "REST_DYNAMIC_IL_1M          0.0\n",
      "CR_PROD_CNT_CCFP            0.0\n",
      "REST_DYNAMIC_CUR_1M        -0.0\n",
      "REST_AVG_PAYM              -0.0\n",
      "LDEAL_GRACE_DAYS_PCT_MED   -0.0\n",
      "REST_DYNAMIC_CUR_3M         0.0\n",
      "CNT_TRAN_SUP_TENDENCY3M     0.0\n",
      "TURNOVER_DYNAMIC_CUR_1M    -0.0\n",
      "REST_DYNAMIC_PAYM_3M        0.0\n",
      "SUM_TRAN_SUP_TENDENCY3M     0.0\n",
      "REST_DYNAMIC_IL_3M          0.0\n",
      "CNT_TRAN_ATM_TENDENCY3M     0.0\n",
      "CNT_TRAN_ATM_TENDENCY1M    -0.0\n",
      "TURNOVER_DYNAMIC_IL_3M     -0.0\n",
      "SUM_TRAN_ATM_TENDENCY3M    -0.0\n",
      "SUM_TRAN_ATM_TENDENCY1M    -0.0\n",
      "REST_DYNAMIC_PAYM_1M       -0.0\n",
      "TURNOVER_DYNAMIC_CUR_3M    -0.0\n",
      "CLNT_SETUP_TENOR           -0.0\n",
      "TURNOVER_DYNAMIC_PAYM_3M   -0.0\n",
      "TURNOVER_DYNAMIC_PAYM_1M   -0.0\n",
      "TRANS_AMOUNT_TENDENCY3M    -0.0\n",
      "TRANS_CNT_TENDENCY3M       -0.0\n",
      "REST_DYNAMIC_CC_1M         -0.0\n",
      "TURNOVER_DYNAMIC_CC_1M     -0.0\n",
      "REST_DYNAMIC_CC_3M          0.0\n",
      "TURNOVER_DYNAMIC_CC_3M      0.0\n",
      "dtype: float64\n",
      "\n",
      "CR_PROD_CNT_IL              1.0\n",
      "AMOUNT_RUB_CLO_PRC          1.0\n",
      "TURNOVER_DYNAMIC_IL_1M      1.0\n",
      "AMOUNT_RUB_SUP_PRC          1.0\n",
      "REST_DYNAMIC_FDEP_1M        1.0\n",
      "REST_DYNAMIC_SAVE_3M        1.0\n",
      "CR_PROD_CNT_VCU             1.0\n",
      "REST_AVG_CUR                1.0\n",
      "AMOUNT_RUB_NAS_PRC          1.0\n",
      "TRANS_COUNT_SUP_PRC         1.0\n",
      "TRANS_COUNT_NAS_PRC         1.0\n",
      "CR_PROD_CNT_TOVR            1.0\n",
      "CR_PROD_CNT_PIL             1.0\n",
      "TURNOVER_CC                 1.0\n",
      "TRANS_COUNT_ATM_PRC         1.0\n",
      "AMOUNT_RUB_ATM_PRC          1.0\n",
      "TURNOVER_PAYM               1.0\n",
      "AGE                         1.0\n",
      "CR_PROD_CNT_CC              1.0\n",
      "REST_DYNAMIC_FDEP_3M        1.0\n",
      "REST_DYNAMIC_IL_1M          1.0\n",
      "CR_PROD_CNT_CCFP            1.0\n",
      "REST_DYNAMIC_CUR_1M         1.0\n",
      "REST_AVG_PAYM               1.0\n",
      "LDEAL_GRACE_DAYS_PCT_MED    1.0\n",
      "REST_DYNAMIC_CUR_3M         1.0\n",
      "CNT_TRAN_SUP_TENDENCY3M     1.0\n",
      "TURNOVER_DYNAMIC_CUR_1M     1.0\n",
      "REST_DYNAMIC_PAYM_3M        1.0\n",
      "SUM_TRAN_SUP_TENDENCY3M     1.0\n",
      "REST_DYNAMIC_IL_3M          1.0\n",
      "CNT_TRAN_ATM_TENDENCY3M     1.0\n",
      "CNT_TRAN_ATM_TENDENCY1M     1.0\n",
      "TURNOVER_DYNAMIC_IL_3M      1.0\n",
      "SUM_TRAN_ATM_TENDENCY3M     1.0\n",
      "SUM_TRAN_ATM_TENDENCY1M     1.0\n",
      "REST_DYNAMIC_PAYM_1M        1.0\n",
      "TURNOVER_DYNAMIC_CUR_3M     1.0\n",
      "CLNT_SETUP_TENOR            1.0\n",
      "TURNOVER_DYNAMIC_PAYM_3M    1.0\n",
      "TURNOVER_DYNAMIC_PAYM_1M    1.0\n",
      "TRANS_AMOUNT_TENDENCY3M     1.0\n",
      "TRANS_CNT_TENDENCY3M        1.0\n",
      "REST_DYNAMIC_CC_1M          1.0\n",
      "TURNOVER_DYNAMIC_CC_1M      1.0\n",
      "REST_DYNAMIC_CC_3M          1.0\n",
      "TURNOVER_DYNAMIC_CC_3M      1.0\n",
      "dtype: float64\n"
     ]
    }
   ],
   "source": [
    "from sklearn.preprocessing import StandardScaler\n",
    "scal = StandardScaler()\n",
    "x_num_scal = scal.fit_transform(x_num) # стандартизация для признаков x_num\n",
    "df_x_num_scal = pd.DataFrame(x_num_scal, columns = list(x_num.columns)) #dataframe\n",
    "\n",
    "print(round(df_x_num_scal.mean(), 2)) #Среднее отклонение\n",
    "print('')\n",
    "print(round(df_x_num_scal.std(), 2)) #Стандартное отклонение"
   ]
  },
  {
   "cell_type": "markdown",
   "metadata": {},
   "source": [
    "Трансформация категориальных признаков (One-Hot Encoding подход к кодированию)"
   ]
  },
  {
   "cell_type": "code",
   "execution_count": 9,
   "metadata": {},
   "outputs": [
    {
     "name": "stdout",
     "output_type": "stream",
     "text": [
      "323\n"
     ]
    }
   ],
   "source": [
    "#OneHotEncoder кодировщик берёт столбец с категориальными данными, \n",
    "#который был предварительно закодирован в признак, и создаёт для него несколько новых столбцов\n",
    "from sklearn.preprocessing import OneHotEncoder\n",
    "\n",
    "x_cat = x_cat.drop(columns = ['CLNT_JOB_POSITION'])\n",
    "encoder = OneHotEncoder(handle_unknown = 'ignore')\n",
    "x_cat_OHE = encoder.fit_transform(x_cat).toarray()\n",
    "df_x_cat_OHE = pd.DataFrame(x_cat_OHE)\n",
    "df_x_cat_OHE.columns = encoder.get_feature_names_out()\n",
    "\n",
    "print(x_cat_OHE.shape[-1]) # Кол-во колонок в таблице x_cat_OHE "
   ]
  },
  {
   "cell_type": "markdown",
   "metadata": {},
   "source": [
    "Объединие датасетов. Сохранение датасет в папку.\n"
   ]
  },
  {
   "cell_type": "code",
   "execution_count": 10,
   "metadata": {},
   "outputs": [
    {
     "name": "stdout",
     "output_type": "stream",
     "text": [
      "(284152, 370)\n"
     ]
    }
   ],
   "source": [
    "from pathlib import Path\n",
    "from sklearn.model_selection import train_test_split\n",
    "\n",
    "x_ready = pd.concat([df_x_num_scal, df_x_cat_OHE], axis = 1) #объединение DF\n",
    "\n",
    "#data_prepared = Path ('../datasets/data_prepared.csv') #сохраняем файл в папку\n",
    "#data_prepared.parent.mkdir(parents = True, exist_ok = True)\n",
    "#x_ready.to_csv(data_prepared)\n",
    "\n",
    "x_train, x_test, y_train, y_test = train_test_split(x_ready, y, test_size = 0.2, random_state=21)\n",
    "print(x_train.shape) # Размерность обучающей выборки x_train "
   ]
  },
  {
   "cell_type": "markdown",
   "metadata": {},
   "source": [
    "Accuracy модели на тестовой выборке."
   ]
  },
  {
   "cell_type": "code",
   "execution_count": 11,
   "metadata": {},
   "outputs": [
    {
     "name": "stdout",
     "output_type": "stream",
     "text": [
      "0.9197612545398237\n"
     ]
    }
   ],
   "source": [
    "from sklearn.linear_model import LogisticRegression\n",
    "from sklearn import metrics\n",
    "LR = LogisticRegression(solver='liblinear', fit_intercept=False, penalty='l1', random_state=21)\n",
    "fit_x_y = LR.fit(x_train, y_train.values.ravel())\n",
    "y_predict = LR.predict(x_test)\n",
    "print (metrics.accuracy_score(y_test, y_predict)) #Accuracy модели \n",
    "#Accuracy - это показатель, который описывает общую точность предсказания модели по всем классам. \n",
    "#Это особенно полезно, когда каждый класс одинаково важен."
   ]
  },
  {
   "cell_type": "markdown",
   "metadata": {},
   "source": [
    "Процент клиентов в тестовой выборке, у которых индикатор оттока равен 0.\n",
    "Тебе что-то должно показаться подозрительным)"
   ]
  },
  {
   "cell_type": "code",
   "execution_count": 12,
   "metadata": {},
   "outputs": [
    {
     "name": "stdout",
     "output_type": "stream",
     "text": [
      "0.9196064078380585\n"
     ]
    }
   ],
   "source": [
    "print(y_test.value_counts()[0]/len(y_test)) # Процент клиентов в тестовой выборке у которых индикатор оттока равен 0"
   ]
  },
  {
   "cell_type": "markdown",
   "metadata": {},
   "source": [
    "Топ-10 самых важных факторов по мнению модели в абсолютном значении."
   ]
  },
  {
   "cell_type": "code",
   "execution_count": 13,
   "metadata": {},
   "outputs": [
    {
     "data": {
      "text/plain": [
       "[Text(0.5, 1.0, 'Топ-10 самых важных факторов по мнению модели в абсолютном значении')]"
      ]
     },
     "execution_count": 13,
     "metadata": {},
     "output_type": "execute_result"
    },
    {
     "data": {
      "image/png": "[encoded data removed]",
      "text/plain": [
       "<Figure size 1500x700 with 1 Axes>"
      ]
     },
     "metadata": {},
     "output_type": "display_data"
    }
   ],
   "source": [
    "import numpy as np\n",
    "import matplotlib.pyplot as plt\n",
    "import seaborn as sns\n",
    "sing_df=pd.DataFrame(list(x_ready.columns), columns=['Признаки'])\n",
    "coef_df=pd.DataFrame(np.abs(fit_x_y.coef_).T, columns=['Коэффициенты'])\n",
    "df_done=pd.concat([sing_df, coef_df], axis=1)\n",
    "df_sort=df_done.sort_values('Коэффициенты', ascending=True)[-10:]\n",
    "plt.subplots(figsize=(15, 7))\n",
    "ax=sns.barplot(x='Коэффициенты', y='Признаки', data = df_sort, palette='colorblind')\n",
    "ax.set(title='Топ-10 самых важных факторов по мнению модели в абсолютном значении')"
   ]
  },
  {
   "cell_type": "markdown",
   "metadata": {},
   "source": [
    "## Task 2 (алгоритм градиентного спуска)"
   ]
  },
  {
   "cell_type": "code",
   "execution_count": 14,
   "metadata": {},
   "outputs": [],
   "source": [
    "import numpy as np\n",
    "import matplotlib.pyplot as plt\n",
    "from sympy import *"
   ]
  },
  {
   "cell_type": "code",
   "execution_count": 15,
   "metadata": {},
   "outputs": [
    {
     "data": {
      "text/latex": [
       "$\\displaystyle 2 x - 1$"
      ],
      "text/plain": [
       "2*x - 1"
      ]
     },
     "execution_count": 15,
     "metadata": {},
     "output_type": "execute_result"
    }
   ],
   "source": [
    "x = symbols('x') #с помощью symbols определяем несколько символов за раз. Строка содержит названия переменных, разделенные запятыми или пробелами\n",
    "def y(x):\n",
    "    return diff(x) #частная производная (diff(func, var))\n",
    "y(x**2 - x + 21)"
   ]
  },
  {
   "cell_type": "code",
   "execution_count": 16,
   "metadata": {},
   "outputs": [
    {
     "data": {
      "text/latex": [
       "$\\displaystyle 2 x - 2 y$"
      ],
      "text/plain": [
       "2*x - 2*y"
      ]
     },
     "execution_count": 16,
     "metadata": {},
     "output_type": "execute_result"
    }
   ],
   "source": [
    "x, y = symbols('x, y')\n",
    "def p(n, k):\n",
    "    return diff(n, k)\n",
    "p((x-y)**2, x) "
   ]
  },
  {
   "cell_type": "code",
   "execution_count": 17,
   "metadata": {},
   "outputs": [
    {
     "data": {
      "text/latex": [
       "$\\displaystyle \\frac{\\sum_{i=1}^{n} \\left(b + w x - y\\right)^{2}}{n}$"
      ],
      "text/plain": [
       "Sum((b + w*x - y)**2, (i, 1, n))/n"
      ]
     },
     "execution_count": 17,
     "metadata": {},
     "output_type": "execute_result"
    }
   ],
   "source": [
    "x, w, b, i, n, y = symbols('x, w, b, i, n, y')\n",
    "y_true = y\n",
    "y_pred = w*x + b\n",
    "mse = (Sum(((y_pred - y_true)**2), (i,1,n)))/n\n",
    "mse"
   ]
  },
  {
   "cell_type": "code",
   "execution_count": 18,
   "metadata": {},
   "outputs": [
    {
     "data": {
      "text/latex": [
       "$\\displaystyle \\frac{\\sum_{i=1}^{n} 2 x \\left(b + w x - y\\right)}{n}$"
      ],
      "text/plain": [
       "Sum(2*x*(b + w*x - y), (i, 1, n))/n"
      ]
     },
     "execution_count": 18,
     "metadata": {},
     "output_type": "execute_result"
    }
   ],
   "source": [
    "p(mse, w)"
   ]
  },
  {
   "cell_type": "code",
   "execution_count": 19,
   "metadata": {},
   "outputs": [
    {
     "data": {
      "text/latex": [
       "$\\displaystyle \\frac{\\sum_{i=1}^{n} \\left(2 b + 2 w x - 2 y\\right)}{n}$"
      ],
      "text/plain": [
       "Sum(2*b + 2*w*x - 2*y, (i, 1, n))/n"
      ]
     },
     "execution_count": 19,
     "metadata": {},
     "output_type": "execute_result"
    }
   ],
   "source": [
    "p(mse, b)"
   ]
  },
  {
   "cell_type": "markdown",
   "metadata": {},
   "source": [
    "Реализации алгоритма градиентного спуска"
   ]
  },
  {
   "cell_type": "code",
   "execution_count": 20,
   "metadata": {},
   "outputs": [],
   "source": [
    "x = np.array(\n",
    "    [32.50234527, 53.42680403, 61.53035803, 47.47563963, 59.81320787, 55.14218841, \n",
    "     52.21179669, 39.29956669, 48.10504169, 52.55001444, 45.41973014, 54.35163488, \n",
    "     44.1640495 , 58.16847072, 56.72720806, 48.95588857, 44.68719623, 60.29732685, \n",
    "     45.61864377, 38.81681754]\n",
    ")\n",
    "y = np.array(\n",
    "    [31.70700585, 68.77759598, 62.5623823 , 71.54663223, 87.23092513, 78.21151827, \n",
    "     79.64197305, 59.17148932, 75.3312423 , 71.30087989, 55.16567715, 82.47884676, \n",
    "     62.00892325, 75.39287043, 81.43619216, 60.72360244, 82.89250373, 97.37989686, \n",
    "     48.84715332, 56.87721319]\n",
    ")"
   ]
  },
  {
   "cell_type": "code",
   "execution_count": 21,
   "metadata": {},
   "outputs": [
    {
     "data": {
      "image/png": "[encoded data removed]",
      "text/plain": [
       "<Figure size 640x480 with 1 Axes>"
      ]
     },
     "metadata": {},
     "output_type": "display_data"
    }
   ],
   "source": [
    "plt.scatter(x, y);"
   ]
  },
  {
   "cell_type": "code",
   "execution_count": 22,
   "metadata": {},
   "outputs": [],
   "source": [
    "class Gradient():\n",
    "    def __init__(self, x, y):\n",
    "        self.x = x\n",
    "        self.y = y\n",
    "        \n",
    "    def predict(self, w, b):\n",
    "        self.w = w\n",
    "        self.b = b\n",
    "        self.y_pred = np.add(np.multiply(w, self.x), b)\n",
    "        self.mse(self.y_pred)\n",
    "        return self.y_pred\n",
    "    \n",
    "    def mse(self, y_pred):\n",
    "        mse = np.mean((self.y - y_pred) ** 2)\n",
    "        return mse\n",
    "    \n",
    "    def update(self, w, b, a = 0.0001):\n",
    "        self.predict(w, b)\n",
    "        w_new = w - a * -2 * np.multiply(self.x, np.subtract(self.y, self.y_pred)).mean()\n",
    "        b_new = b - a * 2 * np.subtract(self.y_pred, self.y).mean()\n",
    "        self.w = w_new\n",
    "        self.b = b_new\n",
    "        self.predict(self.w, self.b)\n",
    "        return w_new, b_new"
   ]
  },
  {
   "cell_type": "code",
   "execution_count": 23,
   "metadata": {},
   "outputs": [
    {
     "name": "stdout",
     "output_type": "stream",
     "text": [
      "[20.25117263 30.71340201 34.76517902 27.73781982 33.90660393 31.57109421\n",
      " 30.10589834 23.64978334 28.05252085 30.27500722 26.70986507 31.17581744\n",
      " 26.08202475 33.08423536 32.36360403 28.47794428 26.34359811 34.14866342\n",
      " 26.80932188 23.40840877]\n",
      "1784.8517253411974\n",
      "0.9150528224014477 4.00809052559105\n"
     ]
    }
   ],
   "source": [
    "w = 0.5\n",
    "b = 4\n",
    "gradient = Gradient(x, y)\n",
    "y_pred = gradient.predict(w, b)\n",
    "MSE = gradient.mse(y_pred)\n",
    "w_new, b_new = gradient.update(w, b)\n",
    "print(y_pred)\n",
    "print(MSE)\n",
    "print(w_new, b_new)"
   ]
  },
  {
   "cell_type": "markdown",
   "metadata": {},
   "source": [
    "Улучшение кода метод optimize"
   ]
  },
  {
   "cell_type": "code",
   "execution_count": 24,
   "metadata": {},
   "outputs": [],
   "source": [
    "class GradientDescent(Gradient):\n",
    "    \n",
    "    def __init__(self, x, y):\n",
    "        super().__init__(x, y)\n",
    "        \n",
    "    def optimize(self, num_iterations, stopping_threshold = 0.001, a = 0.0001):\n",
    "        w_new, b_new = self.update(w, b, a = 0.0001)\n",
    "        for i in range(num_iterations):\n",
    "            y_pred_new = self.predict(w_new, b_new)\n",
    "            MSE_new = self.mse(y_pred_new)\n",
    "            if abs(MSE - MSE_new) < stopping_threshold:\n",
    "                break\n",
    "            w_new, b_new = self.update(w_new, b_new, a = 0.0001)\n",
    "        return w_new, b_new, MSE_new"
   ]
  },
  {
   "cell_type": "code",
   "execution_count": 25,
   "metadata": {},
   "outputs": [
    {
     "name": "stdout",
     "output_type": "stream",
     "text": [
      "(1.3115991091004235, 4.015587792053563, 99.29829918175236)\n"
     ]
    }
   ],
   "source": [
    "grad = GradientDescent(x, y)\n",
    "w = 0.5\n",
    "b = 4\n",
    "y_pred = grad.predict(w, b)\n",
    "MSE = grad.mse(y_pred)\n",
    "w_new, b_new = grad.update(w, b)\n",
    "print(grad.optimize(10))"
   ]
  }
 ],
 "metadata": {
  "colab": {
   "collapsed_sections": [
    "KPtcdkJ3Pc4I"
   ],
   "name": "d02_task.ipynb",
   "provenance": []
  },
  "kernelspec": {
   "display_name": "Python 3 (ipykernel)",
   "language": "python",
   "name": "python3"
  },
  "language_info": {
   "codemirror_mode": {
    "name": "ipython",
    "version": 3
   },
   "file_extension": ".py",
   "mimetype": "text/x-python",
   "name": "python",
   "nbconvert_exporter": "python",
   "pygments_lexer": "ipython3",
   "version": "3.11.3"
  }
 },
 "nbformat": 4,
 "nbformat_minor": 4
}
